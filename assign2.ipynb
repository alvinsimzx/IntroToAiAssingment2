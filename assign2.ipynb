{
  "nbformat": 4,
  "nbformat_minor": 0,
  "metadata": {
    "kernelspec": {
      "display_name": "Python 3",
      "language": "python",
      "name": "python3"
    },
    "language_info": {
      "codemirror_mode": {
        "name": "ipython",
        "version": 3
      },
      "file_extension": ".py",
      "mimetype": "text/x-python",
      "name": "python",
      "nbconvert_exporter": "python",
      "pygments_lexer": "ipython3",
      "version": "3.7.7"
    },
    "colab": {
      "name": "assign2.ipynb",
      "provenance": [],
      "collapsed_sections": []
    },
    "accelerator": "TPU"
  },
  "cells": [
    {
      "cell_type": "code",
      "metadata": {
        "id": "iFsIjC_9oDMO",
        "colab_type": "code",
        "colab": {}
      },
      "source": [
        "import time\n",
        "import matplotlib\n",
        "import matplotlib.pyplot as plt\n",
        "import numpy as np\n",
        "import math\n",
        "import os\n",
        "import cv2\n",
        "\n",
        "from sklearn.model_selection import train_test_split\n",
        "from random import shuffle\n",
        "from sklearn.ensemble import RandomForestClassifier\n",
        "from sklearn import metrics\n",
        "from tqdm import tqdm\n",
        "\n",
        "currentDirectory = os.getcwd()\n",
        "\n",
        "DATADIR = \"/content/drive/My Drive/images/FEI+JAFFE\" #Change the directory if using ur own pc\n",
        "TESTDIR = \"/content/drive/My Drive/images/Testing Data IU\"\n",
        "CATEGORIES = [\"Happy\",\"Sad\"] #Happy = 0, Sad = 1\n",
        "IMG_SIZE = 100"
      ],
      "execution_count": 0,
      "outputs": []
    },
    {
      "cell_type": "code",
      "metadata": {
        "id": "593VTwTioDMj",
        "colab_type": "code",
        "outputId": "03ff5fbb-9535-4016-f4ee-ad1d27deb853",
        "colab": {
          "base_uri": "https://localhost:8080/",
          "height": 92
        }
      },
      "source": [
        "def create_training_data():\n",
        "    TRAINING_DATA = []\n",
        "    for category in CATEGORIES: \n",
        "        path = os.path.join(DATADIR,category)\n",
        "        class_num = CATEGORIES.index(category) # Label of the image\n",
        "\n",
        "        for img in tqdm(os.listdir(path)):\n",
        "            try:\n",
        "                img_array = cv2.imread(os.path.join(path,img) ,cv2.IMREAD_GRAYSCALE)  # convert to array\n",
        "                new_array = cv2.resize(img_array, (IMG_SIZE, IMG_SIZE))  # resize to normalize data size\n",
        "                TRAINING_DATA.append([new_array, class_num])\n",
        "            except Exception as e:  \n",
        "                pass\n",
        "    return TRAINING_DATA\n",
        "    \n",
        "TRAINING_DATA = create_training_data()\n",
        "print(\"\\n\")"
      ],
      "execution_count": 4,
      "outputs": [
        {
          "output_type": "stream",
          "text": [
            "100%|██████████| 279/279 [01:31<00:00,  3.04it/s]\n",
            "100%|██████████| 334/334 [01:51<00:00,  2.99it/s]"
          ],
          "name": "stderr"
        },
        {
          "output_type": "stream",
          "text": [
            "\n",
            "\n"
          ],
          "name": "stdout"
        },
        {
          "output_type": "stream",
          "text": [
            "\n"
          ],
          "name": "stderr"
        }
      ]
    },
    {
      "cell_type": "code",
      "metadata": {
        "id": "5s6lwBqfYf-_",
        "colab_type": "code",
        "outputId": "8f53ddaa-b14e-4d74-911b-3e1d3be800a0",
        "colab": {
          "base_uri": "https://localhost:8080/",
          "height": 131
        }
      },
      "source": [
        "from google.colab import drive\n",
        "drive.mount('/content/drive')"
      ],
      "execution_count": 3,
      "outputs": [
        {
          "output_type": "stream",
          "text": [
            "Go to this URL in a browser: https://accounts.google.com/o/oauth2/auth?client_id=947318989803-6bn6qk8qdgf4n4g3pfee6491hc0brc4i.apps.googleusercontent.com&redirect_uri=urn%3aietf%3awg%3aoauth%3a2.0%3aoob&response_type=code&scope=email%20https%3a%2f%2fwww.googleapis.com%2fauth%2fdocs.test%20https%3a%2f%2fwww.googleapis.com%2fauth%2fdrive%20https%3a%2f%2fwww.googleapis.com%2fauth%2fdrive.photos.readonly%20https%3a%2f%2fwww.googleapis.com%2fauth%2fpeopleapi.readonly\n",
            "\n",
            "Enter your authorization code:\n",
            "··········\n",
            "Mounted at /content/drive\n"
          ],
          "name": "stdout"
        }
      ]
    },
    {
      "cell_type": "code",
      "metadata": {
        "id": "rdaEeRQJ237M",
        "colab_type": "code",
        "outputId": "12883d15-b0c2-4a31-9412-d33b2d30a524",
        "colab": {
          "base_uri": "https://localhost:8080/",
          "height": 54
        }
      },
      "source": [
        "\n",
        "def create_test_data():\n",
        "    Testing_Data = []\n",
        "    for category in CATEGORIES:  # do dogs and cats\n",
        "\n",
        "        path = os.path.join(TESTDIR,category)  # create path to dogs and cats\n",
        "        class_num = CATEGORIES.index(category)  # get the classification  (0 or a 1). 0=dog 1=cat\n",
        "\n",
        "        for img in tqdm(os.listdir(path)):  # iterate over each image per dogs and cats\n",
        "            \n",
        "            try:\n",
        "                img_array = cv2.imread(os.path.join(path,img),cv2.IMREAD_GRAYSCALE)  # convert to array\n",
        "                new_array = cv2.resize(img_array, (IMG_SIZE, IMG_SIZE))  # resize to normalize data size\n",
        "                Testing_Data.append([new_array, class_num])  # add this to our training_data\n",
        "            except Exception as e:  # in the interest in keeping the output clean...\n",
        "                pass\n",
        "    return Testing_Data\n",
        "TESTING_DATA = create_test_data()"
      ],
      "execution_count": 0,
      "outputs": [
        {
          "output_type": "stream",
          "text": [
            "100%|██████████| 11/11 [00:00<00:00, 116.03it/s]\n",
            "100%|██████████| 9/9 [00:00<00:00, 134.61it/s]\n"
          ],
          "name": "stderr"
        }
      ]
    },
    {
      "cell_type": "code",
      "metadata": {
        "id": "j2pcBqIZoDM6",
        "colab_type": "code",
        "colab": {}
      },
      "source": [
        "import random\n",
        "#random.shuffle(TRAINING_DATA)\n",
        "random.shuffle(TESTING_DATA)"
      ],
      "execution_count": 0,
      "outputs": []
    },
    {
      "cell_type": "code",
      "metadata": {
        "id": "N7lt4LlyoDNI",
        "colab_type": "code",
        "outputId": "7daaea64-ec37-4f69-a10e-0365d4950579",
        "colab": {
          "base_uri": "https://localhost:8080/",
          "height": 249
        }
      },
      "source": [
        "X = []\n",
        "Y = []\n",
        "print(len(TRAINING_DATA))\n",
        "for features,label in TRAINING_DATA:\n",
        "    X.append(features)\n",
        "    Y.append(label)\n",
        "    \n",
        "X = np.array(X).reshape(-1, 100, 100, 1)\n",
        "Y = np.array(Y)\n"
      ],
      "execution_count": 0,
      "outputs": [
        {
          "output_type": "error",
          "ename": "NameError",
          "evalue": "ignored",
          "traceback": [
            "\u001b[0;31m---------------------------------------------------------------------------\u001b[0m",
            "\u001b[0;31mNameError\u001b[0m                                 Traceback (most recent call last)",
            "\u001b[0;32m<ipython-input-5-d6b682196ecb>\u001b[0m in \u001b[0;36m<module>\u001b[0;34m()\u001b[0m\n\u001b[1;32m      1\u001b[0m \u001b[0mX\u001b[0m \u001b[0;34m=\u001b[0m \u001b[0;34m[\u001b[0m\u001b[0;34m]\u001b[0m\u001b[0;34m\u001b[0m\u001b[0;34m\u001b[0m\u001b[0m\n\u001b[1;32m      2\u001b[0m \u001b[0mY\u001b[0m \u001b[0;34m=\u001b[0m \u001b[0;34m[\u001b[0m\u001b[0;34m]\u001b[0m\u001b[0;34m\u001b[0m\u001b[0;34m\u001b[0m\u001b[0m\n\u001b[0;32m----> 3\u001b[0;31m \u001b[0mprint\u001b[0m\u001b[0;34m(\u001b[0m\u001b[0mlen\u001b[0m\u001b[0;34m(\u001b[0m\u001b[0mTRAINING_DATA\u001b[0m\u001b[0;34m)\u001b[0m\u001b[0;34m)\u001b[0m\u001b[0;34m\u001b[0m\u001b[0;34m\u001b[0m\u001b[0m\n\u001b[0m\u001b[1;32m      4\u001b[0m \u001b[0;32mfor\u001b[0m \u001b[0mfeatures\u001b[0m\u001b[0;34m,\u001b[0m\u001b[0mlabel\u001b[0m \u001b[0;32min\u001b[0m \u001b[0mTRAINING_DATA\u001b[0m\u001b[0;34m:\u001b[0m\u001b[0;34m\u001b[0m\u001b[0;34m\u001b[0m\u001b[0m\n\u001b[1;32m      5\u001b[0m     \u001b[0mX\u001b[0m\u001b[0;34m.\u001b[0m\u001b[0mappend\u001b[0m\u001b[0;34m(\u001b[0m\u001b[0mfeatures\u001b[0m\u001b[0;34m)\u001b[0m\u001b[0;34m\u001b[0m\u001b[0;34m\u001b[0m\u001b[0m\n",
            "\u001b[0;31mNameError\u001b[0m: name 'TRAINING_DATA' is not defined"
          ]
        }
      ]
    },
    {
      "cell_type": "code",
      "metadata": {
        "id": "gm4cG_RN4EQ-",
        "colab_type": "code",
        "outputId": "c6b55883-8597-4120-ff4e-14385edc24be",
        "colab": {
          "base_uri": "https://localhost:8080/",
          "height": 36
        }
      },
      "source": [
        "X_TEST = []\n",
        "Y_TEST = []\n",
        "\n",
        "for features,label in TESTING_DATA:\n",
        "    X_TEST.append(features)\n",
        "    Y_TEST.append(label)\n",
        "    \n",
        "X_TEST = np.array(X_TEST).reshape(-1, 100, 100, 1)\n",
        "Y_TEST = np.array(Y_TEST)\n",
        "print(len(X_TEST))"
      ],
      "execution_count": 0,
      "outputs": [
        {
          "output_type": "stream",
          "text": [
            "20\n"
          ],
          "name": "stdout"
        }
      ]
    },
    {
      "cell_type": "code",
      "metadata": {
        "id": "TOG9swoG0Ltz",
        "colab_type": "code",
        "colab": {}
      },
      "source": [
        "import pickle\n",
        "\n",
        "pickle_out = open(\"/content/X.pickle\",\"wb\")\n",
        "pickle.dump(X, pickle_out)\n",
        "pickle_out.close()\n",
        "\n",
        "pickle_out = open(\"/content/y.pickle\",\"wb\")#write book\n",
        "pickle.dump(Y, pickle_out)\n",
        "pickle_out.close()"
      ],
      "execution_count": 0,
      "outputs": []
    },
    {
      "cell_type": "code",
      "metadata": {
        "id": "6c1cTKEuoDNh",
        "colab_type": "code",
        "colab": {}
      },
      "source": [
        "import pickle\n",
        "pickle_in = open(\"/content/X.pickle\",\"rb\")#read book\n",
        "X = pickle.load(pickle_in)\n",
        "\n",
        "pickle_in = open(\"/content/y.pickle\",\"rb\")\n",
        "Y = pickle.load(pickle_in)"
      ],
      "execution_count": 0,
      "outputs": []
    },
    {
      "cell_type": "code",
      "metadata": {
        "id": "aHbyJUfNoDNu",
        "colab_type": "code",
        "colab": {}
      },
      "source": [
        "import tensorflow as tf"
      ],
      "execution_count": 0,
      "outputs": []
    },
    {
      "cell_type": "code",
      "metadata": {
        "id": "z_D7oJ-zoDN3",
        "colab_type": "code",
        "colab": {}
      },
      "source": [
        "from tensorflow.keras.models import Sequential\n",
        "from tensorflow.keras.layers import Dense, Dropout, Activation, Flatten\n",
        "from tensorflow.keras.layers import Conv2D, MaxPooling2D"
      ],
      "execution_count": 0,
      "outputs": []
    },
    {
      "cell_type": "code",
      "metadata": {
        "id": "nMYr7O_joDN_",
        "colab_type": "code",
        "outputId": "029ef176-f1d9-4ab7-8bea-997d2a93cef0",
        "colab": {
          "base_uri": "https://localhost:8080/",
          "height": 318
        }
      },
      "source": [
        "X = X/255.0\n",
        "\n",
        "model = Sequential()\n",
        "\n",
        "#Must be in this order\n",
        "model.add(Conv2D(256, (3, 3), input_shape=X.shape[1:]))\n",
        "model.add(Activation('relu'))#rectify linear\n",
        "model.add(MaxPooling2D(pool_size=(2, 2)))\n",
        "\n",
        "model.add(Conv2D(256, (3, 3)))\n",
        "model.add(Activation('relu'))\n",
        "model.add(MaxPooling2D(pool_size=(2, 2)))\n",
        "\n",
        "model.add(Flatten())  # this converts our 3D feature maps to 1D feature vectors\n",
        "\n",
        "model.add(Dense(64))\n",
        "\n",
        "model.add(Dense(1))\n",
        "model.add(Activation('sigmoid'))\n",
        "\n",
        "model.compile(loss='binary_crossentropy',\n",
        "              optimizer='adam',\n",
        "              metrics=['accuracy'])\n",
        "\n",
        "model.fit(X, Y, batch_size=32, epochs=7, validation_split=0.3)"
      ],
      "execution_count": 0,
      "outputs": [
        {
          "output_type": "stream",
          "text": [
            "Epoch 1/7\n",
            "14/14 [==============================] - 73s 5s/step - loss: 1.3838 - accuracy: 0.4988 - val_loss: 0.6916 - val_accuracy: 0.4728\n",
            "Epoch 2/7\n",
            "14/14 [==============================] - 72s 5s/step - loss: 0.6877 - accuracy: 0.5315 - val_loss: 0.6882 - val_accuracy: 0.5598\n",
            "Epoch 3/7\n",
            "14/14 [==============================] - 72s 5s/step - loss: 0.6713 - accuracy: 0.5315 - val_loss: 0.6879 - val_accuracy: 0.5054\n",
            "Epoch 4/7\n",
            "14/14 [==============================] - 72s 5s/step - loss: 0.6605 - accuracy: 0.5851 - val_loss: 0.6768 - val_accuracy: 0.5543\n",
            "Epoch 5/7\n",
            "14/14 [==============================] - 72s 5s/step - loss: 0.6290 - accuracy: 0.6434 - val_loss: 0.6734 - val_accuracy: 0.5326\n",
            "Epoch 6/7\n",
            "14/14 [==============================] - 73s 5s/step - loss: 0.5439 - accuracy: 0.7413 - val_loss: 0.6137 - val_accuracy: 0.6250\n",
            "Epoch 7/7\n",
            "14/14 [==============================] - 72s 5s/step - loss: 0.4583 - accuracy: 0.7972 - val_loss: 0.4935 - val_accuracy: 0.7609\n"
          ],
          "name": "stdout"
        },
        {
          "output_type": "execute_result",
          "data": {
            "text/plain": [
              "<tensorflow.python.keras.callbacks.History at 0x7f6b9cdef1d0>"
            ]
          },
          "metadata": {
            "tags": []
          },
          "execution_count": 12
        }
      ]
    },
    {
      "cell_type": "code",
      "metadata": {
        "id": "vaL5WAv9oDOK",
        "colab_type": "code",
        "outputId": "72904123-bf11-4699-faaa-e956ddf3ee5d",
        "colab": {
          "base_uri": "https://localhost:8080/",
          "height": 54
        }
      },
      "source": [
        "\n",
        "model.evaluate(X_TEST ,Y_TEST,batch_size=1)"
      ],
      "execution_count": 0,
      "outputs": [
        {
          "output_type": "stream",
          "text": [
            "40/40 [==============================] - 2s 54ms/step - loss: 45.5399 - accuracy: 0.5000\n"
          ],
          "name": "stdout"
        },
        {
          "output_type": "execute_result",
          "data": {
            "text/plain": [
              "[45.539859771728516, 0.5]"
            ]
          },
          "metadata": {
            "tags": []
          },
          "execution_count": 13
        }
      ]
    },
    {
      "cell_type": "code",
      "metadata": {
        "id": "EusE7yl1Sqqy",
        "colab_type": "code",
        "outputId": "a2bb7893-7a07-4691-9927-76ce55b729c7",
        "colab": {
          "base_uri": "https://localhost:8080/",
          "height": 167
        }
      },
      "source": [
        "rfc = RandomForestClassifier(n_jobs=-1, n_estimators=40) #10,30,100\n",
        "rfc.fit(X.reshape(len(X), -1), Y)"
      ],
      "execution_count": 0,
      "outputs": [
        {
          "output_type": "execute_result",
          "data": {
            "text/plain": [
              "RandomForestClassifier(bootstrap=True, ccp_alpha=0.0, class_weight=None,\n",
              "                       criterion='gini', max_depth=None, max_features='auto',\n",
              "                       max_leaf_nodes=None, max_samples=None,\n",
              "                       min_impurity_decrease=0.0, min_impurity_split=None,\n",
              "                       min_samples_leaf=1, min_samples_split=2,\n",
              "                       min_weight_fraction_leaf=0.0, n_estimators=40, n_jobs=-1,\n",
              "                       oob_score=False, random_state=None, verbose=0,\n",
              "                       warm_start=False)"
            ]
          },
          "metadata": {
            "tags": []
          },
          "execution_count": 12
        }
      ]
    },
    {
      "cell_type": "code",
      "metadata": {
        "id": "PabuxgarVl3W",
        "colab_type": "code",
        "colab": {}
      },
      "source": [
        "rfc.score(X_TEST.reshape(len(X_TEST), -1),Y_TEST)\n",
        "y_pred = rfc.predict(X_TEST.reshape(len(X_TEST), -1))"
      ],
      "execution_count": 0,
      "outputs": []
    },
    {
      "cell_type": "code",
      "metadata": {
        "id": "lwi_8lE8WxNx",
        "colab_type": "code",
        "outputId": "86eaa738-dacf-4258-836a-08dddd7f696c",
        "colab": {
          "base_uri": "https://localhost:8080/",
          "height": 702
        }
      },
      "source": [
        "import scikitplot as skplt\n",
        "plt.figure(figsize=(12,8))\n",
        "f,ax=plt.subplots(1,1,figsize=(12,12))\n",
        "#sklearn.metrics.plot_confusion_matrix(rfc,y_test, y_pred)\n",
        "skplt.metrics.plot_confusion_matrix(Y_TEST, y_pred, normalize='true',ax=ax)\n",
        "plt.show()"
      ],
      "execution_count": 0,
      "outputs": [
        {
          "output_type": "display_data",
          "data": {
            "text/plain": [
              "<Figure size 864x576 with 0 Axes>"
            ]
          },
          "metadata": {
            "tags": []
          }
        },
        {
          "output_type": "display_data",
          "data": {
            "image/png": "[encoded data removed]",
            "text/plain": [
              "<Figure size 864x864 with 2 Axes>"
            ]
          },
          "metadata": {
            "tags": [],
            "needs_background": "light"
          }
        }
      ]
    }
  ]
}